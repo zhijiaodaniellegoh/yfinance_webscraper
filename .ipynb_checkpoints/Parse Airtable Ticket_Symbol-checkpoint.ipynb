{
 "cells": [
  {
   "cell_type": "code",
   "execution_count": 22,
   "id": "22183199",
   "metadata": {},
   "outputs": [],
   "source": [
    "unparsed = '''601288.SS, 1288.HK\n",
    "NYSE: BABA, 9988.HK\n",
    "601012.SS, 300014.SZ\n",
    "9888.HK\n",
    "NYSE: BILI, 09626.HK\n",
    "02057.HK, NYSE: ZTO\n",
    "000333.SZ'''"
   ]
  },
  {
   "cell_type": "code",
   "execution_count": 31,
   "id": "d7a8dae4",
   "metadata": {},
   "outputs": [],
   "source": [
    "tickers = unparsed.split('\\n')"
   ]
  },
  {
   "cell_type": "code",
   "execution_count": 37,
   "id": "e9e4b4b1",
   "metadata": {},
   "outputs": [
    {
     "name": "stdout",
     "output_type": "stream",
     "text": [
      "['601288.SS, 1288.HK', 'NYSE: BABA, 9988.HK', '9888.HK', 'NYSE: BILI, 09626.HK', '02057.HK, NYSE: ZTO', '000333.SZ']\n",
      "HK: 1288.HK\n",
      "found NYSE\n",
      "HK: 9888.HK\n",
      "found NYSE\n",
      "found NYSE\n",
      "SS: 000333.SZ\n"
     ]
    }
   ],
   "source": [
    "def parse(tickers):\n",
    "    for ticker in tickers:\n",
    "        tickers_for_company = ticker.split(', ')\n",
    "        \n",
    "        if 'NYSE' in ticker:\n",
    "            print('found NYSE')\n",
    "        elif 'HK' in ticker:\n",
    "            hk_ticker = list(filter(lambda t: ('HK' in t), tickers_for_company))[0]\n",
    "            print('HK:', hk_ticker)\n",
    "        elif 'SS':\n",
    "            print('SS:', ticker)\n",
    "        elif 'SZ':\n",
    "            print('SZ:', ticker)\n",
    "\n",
    "print(tickers)\n",
    "parse(tickers)"
   ]
  },
  {
   "cell_type": "code",
   "execution_count": null,
   "id": "b8ea9c78",
   "metadata": {},
   "outputs": [],
   "source": []
  },
  {
   "cell_type": "code",
   "execution_count": null,
   "id": "1218ee5a",
   "metadata": {},
   "outputs": [],
   "source": []
  }
 ],
 "metadata": {
  "kernelspec": {
   "display_name": "Python 3 (ipykernel)",
   "language": "python",
   "name": "python3"
  },
  "language_info": {
   "codemirror_mode": {
    "name": "ipython",
    "version": 3
   },
   "file_extension": ".py",
   "mimetype": "text/x-python",
   "name": "python",
   "nbconvert_exporter": "python",
   "pygments_lexer": "ipython3",
   "version": "3.9.7"
  }
 },
 "nbformat": 4,
 "nbformat_minor": 5
}
