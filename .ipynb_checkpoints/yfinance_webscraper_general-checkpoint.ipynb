{
 "cells": [
  {
   "cell_type": "code",
   "execution_count": 1,
   "id": "b7456854",
   "metadata": {},
   "outputs": [],
   "source": [
    "import numpy as np\n",
    "import pandas as pd\n",
    "from bs4 import BeautifulSoup\n",
    "import requests, lxml\n",
    "from lxml import html\n",
    "import csv, json\n",
    "from decimal import *\n",
    "import math\n",
    "import datetime\n",
    "# from retry import retry"
   ]
  },
  {
   "cell_type": "code",
   "execution_count": 2,
   "id": "82294328",
   "metadata": {},
   "outputs": [],
   "source": [
    "env_vars = {}\n",
    "\n",
    "with open('config.env') as f:\n",
    "    for line in f:\n",
    "        if line.startswith('#') or not line.strip():\n",
    "            continue\n",
    "        key, value = line.strip().split('=')\n",
    "        env_vars[key] = value\n",
    "        \n",
    "AIRTABLE_TOKEN = env_vars[\"AIRTABLE_TOKEN\"]\n",
    "AIRTABLE_BASE_ID = env_vars[\"AIRTABLE_BASE_ID\"]\n",
    "AIRTABLE_URL = f\"https://api.airtable.com/v0/{AIRTABLE_BASE_ID}\""
   ]
  },
  {
   "cell_type": "code",
   "execution_count": 3,
   "id": "bcda846e",
   "metadata": {},
   "outputs": [],
   "source": [
    "class statistics:\n",
    "    base_url = \"https://finance.yahoo.com/\"\n",
    "    def __init__(self, symbol):\n",
    "        '''\n",
    "\n",
    "        :param symbol: stock symbol in all caps\n",
    "        please note that any Canadian TSX stocks are followed with \".TO\"     \n",
    "        check the relevant URL for formatting.\n",
    "        '''\n",
    "        self.symbol = symbol.upper()\n",
    "        self.path = \"quote/{0}/key-statistics?p={0}\".format(symbol)\n",
    "        self.url = self.base_url + self.path\n",
    "        self.methods = ['scrape_page', 'label_stats']\n",
    "        self.attributes = ['self.symbol', 'self.path', 'self.url',\n",
    "                          'self.methods', 'self.hdrs','self.valuation']\n",
    "#                           'self.fiscal_year', 'self.profitability',\n",
    "#                           'self.manager_effect','self.income_statement',\n",
    "#                           'self.balance_sheet', 'self.cash_statement',\n",
    "#                           'self.price_history', 'self.share_stats',  \n",
    "#                           'self.dividendSplit']\n",
    "        self.hdrs = {\"authority\": \"finance.yahoo.com\",\n",
    "                     \"method\": \"GET\",\n",
    "                     \"path\": self.path,\n",
    "                     \"scheme\": \"https\",\n",
    "                     \"accept\": \"text/html,application/xml;q=0.9\",\n",
    "                     \"accept-encoding\": \"gzip, deflate, br\",\n",
    "                     \"accept-language\": \"en-US,en;q=0.9\",\n",
    "                     \"referer\": self.base_url,\n",
    "                     \"sec-fetch-mode\": \"navigate\",\n",
    "                     \"sec-fetch-site\": \"same-origin\",\n",
    "                     \"sec-fetch-user\": \"?1\",\n",
    "                     \"upgrade-insecure-requests\": \"1\",\n",
    "                     \"user-agent\": \"Mozilla/5.0 (Windows NT 10.0;)\"}\n",
    "#     @retry ((IndexError), tries=3, delay=1, backoff=2)\n",
    "    def scrape_page(self):\n",
    "        '''\n",
    "\n",
    "        :return: scrapes the content of the class URL,\n",
    "                   using headers defined in the init function,\n",
    "                   returning a byte string of html code.\n",
    "        '''\n",
    "        page = requests.get(self.url, headers=self.hdrs)\n",
    "        soup = BeautifulSoup(page.content, 'lxml')\n",
    "        tables = soup.find_all('table')\n",
    "        iterator = range(0, len(tables))\n",
    "        function = lambda x: pd.read_html(str(tables[x]))\n",
    "        table_list = list(map(function, iterator))[0]\n",
    "#         print('table: ', table_list[0])\n",
    "        market_cap = table_list[0].iloc[0][1]\n",
    "        return market_cap\n",
    "    def label_stats(self, table_list):\n",
    "        '''\n",
    "        :param table_list: uses the output of the scrape_page method\n",
    "        :return: creates attributes for the statistics class object,\n",
    "                 uses indexLabel method to label columns and set the dataframes' index\n",
    "        \n",
    "        '''\n",
    "        iterator = [table_list[i][0] for i in range(0, len(table_list))]\n",
    "        \n",
    "        table_list = list(map(lambda df: self.__indexLabel__(df), iterator))\n",
    "#         self.valuation, self.fiscal_year, self.profitability, self.manager_effect, \\\n",
    "#         self.income_statement, self.balance_sheet, self.cash_statement, \\\n",
    "#         self.price_history, self.share_stats, self.dividendSplit = table_list\n",
    "        \n",
    "        self.valuation = table_list\n",
    "        print(self.valuation)\n",
    "        return table_list\n",
    "    def __indexLabel__(self, df):\n",
    "        '''\n",
    "        \n",
    "        :param df: Takes a dataframe as input.\n",
    "        :return: returns a dataframe with column labels and a set index.\n",
    "        \n",
    "        '''\n",
    "        df.columns = ['Measure', 'Value']\n",
    "        df = df.set_index('Measure')\n",
    "        return df"
   ]
  },
  {
   "cell_type": "code",
   "execution_count": 4,
   "id": "de775626",
   "metadata": {},
   "outputs": [],
   "source": [
    "class RealTimeCurrencyConverter():\n",
    "    def __init__(self, url):\n",
    "        self.data = requests.get(url).json()\n",
    "        self.rates = self.data['rates']\n",
    "        self.date = self.data['date']\n",
    "    def convert(self, amount, currency):\n",
    "        if currency == 'USD':\n",
    "            return amount\n",
    "        conversion_rate = self.rates[currency]\n",
    "        usd_amount = amount / self.rates[currency]\n",
    "        return usd_amount"
   ]
  },
  {
   "cell_type": "code",
   "execution_count": 5,
   "id": "f685baac",
   "metadata": {},
   "outputs": [],
   "source": [
    "url = 'https://api.exchangerate-api.com/v4/latest/USD'\n",
    "converter = RealTimeCurrencyConverter(url)"
   ]
  },
  {
   "cell_type": "code",
   "execution_count": 6,
   "id": "e1a42aca",
   "metadata": {},
   "outputs": [],
   "source": [
    "unit_multiplier = {\n",
    "    'K': 1000,\n",
    "    'M': 1000000,\n",
    "    'B': 1000000000,\n",
    "    'T': 1000000000000\n",
    "}\n",
    "def convert_mc_actual_number(mc_number, mc_number_unit):\n",
    "    return mc_number * unit_multiplier[mc_number_unit]"
   ]
  },
  {
   "cell_type": "code",
   "execution_count": 7,
   "id": "55e591b2",
   "metadata": {},
   "outputs": [],
   "source": [
    "def convert_formatted_mc_actual_number(usd_amount):\n",
    "    oneplace = Decimal(10) ** -1\n",
    "    if usd_amount >= unit_multiplier['T']:\n",
    "        formatted_usd_amount = usd_amount/unit_multiplier['T']\n",
    "        formatted_usd_amount_one_decimal = Decimal(formatted_usd_amount).quantize(oneplace, rounding=ROUND_UP)\n",
    "        return str(formatted_usd_amount_one_decimal) + ' T'\n",
    "    elif usd_amount >= unit_multiplier['B']:\n",
    "        formatted_usd_amount = usd_amount/unit_multiplier['B']\n",
    "        formatted_usd_amount_one_decimal = Decimal(formatted_usd_amount).quantize(oneplace, rounding=ROUND_UP)\n",
    "        return str(formatted_usd_amount_one_decimal) + ' B'\n",
    "    elif usd_amount >= unit_multiplier['M']:\n",
    "        formatted_usd_amount = usd_amount/unit_multiplier['M']\n",
    "        formatted_usd_amount_one_decimal = Decimal(formatted_usd_amount).quantize(oneplace, rounding=ROUND_UP)\n",
    "        return str(formatted_usd_amount_one_decimal) + ' M'\n",
    "    else:\n",
    "        formatted_usd_amount = usd_amount/unit_multiplier['K']\n",
    "        formatted_usd_amount_one_decimal = Decimal(formatted_usd_amount).quantize(oneplace, rounding=ROUND_UP)\n",
    "        return str(formatted_usd_amount_one_decimal) + ' K'"
   ]
  },
  {
   "cell_type": "code",
   "execution_count": 8,
   "id": "261677e1",
   "metadata": {},
   "outputs": [],
   "source": [
    "def get_currency(stock_symbol):\n",
    "    if 'HK' in stock_symbol:\n",
    "        return 'HKD'\n",
    "    elif 'SS' in stock_symbol or 'SZ' in stock_symbol:\n",
    "        return 'CNY'\n",
    "    else:\n",
    "        return 'USD'"
   ]
  },
  {
   "cell_type": "code",
   "execution_count": 9,
   "id": "5ae9fe05",
   "metadata": {},
   "outputs": [],
   "source": [
    "def get_note(currency, time):\n",
    "    if currency == 'USD':\n",
    "        return '\"Valuation is reported as market capitalization. It was last updated on {}.\"'.format(time)\n",
    "    elif currency == 'HKD':\n",
    "        return '\"Valuation is reported as market capitalization. It was converted from {} using the exchange rate from {}.\"'.format(currency, time)\n",
    "    elif currency == 'CNY':\n",
    "        return '\"Valuation is reported as market capitalization. It was converted from RMB using the exchange rate from {}.\"'.format(time)\n"
   ]
  },
  {
   "cell_type": "code",
   "execution_count": 10,
   "id": "3641dff1",
   "metadata": {},
   "outputs": [],
   "source": [
    "yfinance_data = {}\n",
    "\n",
    "with open('yfinance_data.csv', newline='') as csvfile:\n",
    "    tickerreader = csv.reader(csvfile, delimiter=',')\n",
    "    for stock_symbol, market_cap, note in tickerreader:\n",
    "        note = '\"{}\"'.format(note)\n",
    "        yfinance_data[stock_symbol] = [market_cap, note]"
   ]
  },
  {
   "cell_type": "code",
   "execution_count": 11,
   "id": "7d20748b",
   "metadata": {},
   "outputs": [],
   "source": [
    "def make_json(input):        \n",
    "    with open('yfinance_data.json', 'w', encoding='utf-8') as jsonfile:\n",
    "        jsonfile.write(json.dumps(input, indent=4))"
   ]
  },
  {
   "cell_type": "code",
   "execution_count": 12,
   "id": "3a4c4e10",
   "metadata": {},
   "outputs": [],
   "source": [
    "def get_yfinance_data(sheet_name):\n",
    "    url = f\"{AIRTABLE_URL}/{sheet_name}\"\n",
    "    headers = {\n",
    "        'Authorization': f'Bearer {AIRTABLE_TOKEN}',\n",
    "        'Content-Type': 'application/json'\n",
    "    }\n",
    "    \n",
    "    response = requests.request(\"GET\", url, headers=headers)\n",
    "    return response"
   ]
  },
  {
   "cell_type": "code",
   "execution_count": 13,
   "id": "dcfc39f8",
   "metadata": {},
   "outputs": [
    {
     "name": "stdout",
     "output_type": "stream",
     "text": [
      "USD 262.0 B\n",
      "Valuation is reported as market capitalization. It was last updated on April 19, 2022 22:02:45.\n",
      "NYSE: BABA, 9988.HK\n"
     ]
    }
   ],
   "source": [
    "output = get_yfinance_data('Testing').json()\n",
    "make_json(output)\n",
    "print(output['records'][0]['fields']['company_valuation'])\n",
    "print(output['records'][0]['fields']['company_valuation_notes'])\n",
    "print(output['records'][0]['fields']['_ticker_symbol TEST'])"
   ]
  },
  {
   "cell_type": "code",
   "execution_count": 14,
   "id": "5a79cd8e",
   "metadata": {},
   "outputs": [],
   "source": [
    "# @retry(ValueError, tries=3, delay=1, jitter=1)\n",
    "def save_in_csv(stock_symbols):\n",
    "    market_caps = []\n",
    "    notes = []\n",
    "\n",
    "    for stock_symbol in stock_symbols:\n",
    "        now = datetime.datetime.now()\n",
    "        time = now.strftime(\"%B %d, %Y %H:%M:%S\")\n",
    "        \n",
    "        market_cap = statistics(stock_symbol).scrape_page()\n",
    "        print(stock_symbol, ': ', market_cap)\n",
    "        \n",
    "        if not isinstance(market_cap, str) or market_cap[-1] not in ['K', 'M', 'B', 'T']: #math.isnan(market_cap):\n",
    "            market_caps.append(yfinance_data[stock_symbol][0])\n",
    "            notes.append(yfinance_data[stock_symbol][1])\n",
    "#             raise ValueError('N/A')\n",
    "        else:\n",
    "            mc_number = float(market_cap[:-1])\n",
    "            mc_number_unit = market_cap[-1] # M for million, B for billion, T for trillion\n",
    "            mc_actual_number = convert_mc_actual_number(mc_number, mc_number_unit)\n",
    "            currency = get_currency(stock_symbol)\n",
    "            usd_amount = converter.convert(mc_actual_number, currency)\n",
    "            \n",
    "            formatted_mc = 'USD ' + convert_formatted_mc_actual_number(usd_amount)\n",
    "            market_caps.append(formatted_mc)\n",
    "            note = get_note(currency, time)\n",
    "            notes.append(note)\n",
    "            \n",
    "    print('mcs: ', market_caps)\n",
    "    np.savetxt('yfinance_data.csv', [row for row in zip(['stock symbol', *stock_symbols], ['market cap', *market_caps], ['note', *notes])], delimiter=',', fmt='%s')"
   ]
  },
  {
   "cell_type": "code",
   "execution_count": 15,
   "id": "9c64bdf7",
   "metadata": {},
   "outputs": [],
   "source": [
    "def prioritize(tickers):\n",
    "    prioritized_tickers = []\n",
    "    \n",
    "    for ticker in tickers:\n",
    "        tickers_for_company = ticker.split(',')\n",
    "        \n",
    "        if 'NYSE' in ticker:\n",
    "            nyse_ticker = list(filter(lambda t: ('NYSE' in t), tickers_for_company))[0]\n",
    "            nyse_ticker = nyse_ticker.split(':')[1].strip()\n",
    "            prioritized_tickers.append(nyse_ticker)\n",
    "        elif 'HK' in ticker:\n",
    "            hk_ticker = list(filter(lambda t: ('HK' in t), tickers_for_company))[0].strip()\n",
    "            prioritized_tickers.append(hk_ticker)\n",
    "        elif 'SS' in ticker:\n",
    "            ss_ticker = list(filter(lambda t: ('SS' in t), tickers_for_company))[0].strip()\n",
    "            prioritized_tickers.append(ss_ticker)\n",
    "        elif 'SZ' in ticker:\n",
    "            sz_ticker = list(filter(lambda t: ('SZ' in t), tickers_for_company))[0].strip()\n",
    "            prioritized_tickers.append(sz_ticker)\n",
    "    return prioritized_tickers"
   ]
  },
  {
   "cell_type": "code",
   "execution_count": null,
   "id": "e5dcf7a0",
   "metadata": {},
   "outputs": [],
   "source": [
    "with open('unparsed_tickers.txt', 'r') as f:\n",
    "    file = f.readlines()\n",
    "    \n",
    "unparsed_tickers = [line.strip('\\n\\r') for line in file]\n",
    "\n",
    "stock_symbols = prioritize(unparsed_tickers)\n",
    "save_in_csv(stock_symbols)"
   ]
  }
 ],
 "metadata": {
  "kernelspec": {
   "display_name": "Python 3 (ipykernel)",
   "language": "python",
   "name": "python3"
  },
  "language_info": {
   "codemirror_mode": {
    "name": "ipython",
    "version": 3
   },
   "file_extension": ".py",
   "mimetype": "text/x-python",
   "name": "python",
   "nbconvert_exporter": "python",
   "pygments_lexer": "ipython3",
   "version": "3.9.7"
  }
 },
 "nbformat": 4,
 "nbformat_minor": 5
}
