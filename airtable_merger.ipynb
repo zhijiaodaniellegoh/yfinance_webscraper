{
 "cells": [
  {
   "cell_type": "code",
   "execution_count": 1,
   "id": "35c9ac94",
   "metadata": {},
   "outputs": [
    {
     "data": {
      "text/plain": [
       "True"
      ]
     },
     "execution_count": 1,
     "metadata": {},
     "output_type": "execute_result"
    }
   ],
   "source": [
    "import os\n",
    "import json\n",
    "import requests\n",
    "from dotenv import load_dotenv\n",
    "load_dotenv()"
   ]
  },
  {
   "cell_type": "code",
   "execution_count": 2,
   "id": "dac36559",
   "metadata": {},
   "outputs": [],
   "source": [
    "env_vars = {}\n",
    "\n",
    "with open('config.env') as f:\n",
    "    for line in f:\n",
    "        if line.startswith('#') or not line.strip():\n",
    "            continue\n",
    "        key, value = line.strip().split('=')\n",
    "        env_vars[key] = value"
   ]
  },
  {
   "cell_type": "code",
   "execution_count": 3,
   "id": "898d74db",
   "metadata": {},
   "outputs": [
    {
     "name": "stdout",
     "output_type": "stream",
     "text": [
      "{'records': [{'fields': {'Date': '2021-10-08', 'Hole': 1, 'Par': 4, 'Score': 5}}, {'fields': {'Date': '2021-10-08', 'Hole': 2, 'Par': 4, 'Score': 3}}, {'fields': {'Date': '2021-10-08', 'Hole': 3, 'Par': 5, 'Score': 6}}, {'fields': {'Date': '2021-10-08', 'Hole': 4, 'Par': 3, 'Score': 2}}, {'fields': {'Date': '2021-10-08', 'Hole': 5, 'Par': 4, 'Score': 4}}, {'fields': {'Date': '2021-10-08', 'Hole': 6, 'Par': 4, 'Score': 6}}, {'fields': {'Date': '2021-10-08', 'Hole': 7, 'Par': 4, 'Score': 4}}, {'fields': {'Date': '2021-10-08', 'Hole': 8, 'Par': 5, 'Score': 4}}, {'fields': {'Date': '2021-10-08', 'Hole': 9, 'Par': 4, 'Score': 3}}, {'fields': {'Date': '2021-10-08', 'Hole': 10, 'Par': 4, 'Score': 5}}, {'fields': {'Date': '2021-10-08', 'Hole': 11, 'Par': 4, 'Score': 3}}, {'fields': {'Date': '2021-10-08', 'Hole': 12, 'Par': 5, 'Score': 6}}, {'fields': {'Date': '2021-10-08', 'Hole': 13, 'Par': 3, 'Score': 2}}, {'fields': {'Date': '2021-10-08', 'Hole': 14, 'Par': 4, 'Score': 4}}, {'fields': {'Date': '2021-10-08', 'Hole': 15, 'Par': 4, 'Score': 6}}, {'fields': {'Date': '2021-10-08', 'Hole': 16, 'Par': 4, 'Score': 4}}, {'fields': {'Date': '2021-10-08', 'Hole': 17, 'Par': 5, 'Score': 4}}, {'fields': {'Date': '2021-10-08', 'Hole': 18, 'Par': 4, 'Score': 3}}]}\n"
     ]
    }
   ],
   "source": [
    "AIRTABLE_TOKEN = env_vars[\"AIRTABLE_TOKEN\"]\n",
    "AIRTABLE_BASE_ID = env_vars[\"AIRTABLE_BASE_ID\"]\n",
    "AIRTABLE_URL = f\"https://api.airtable.com/v0/{AIRTABLE_BASE_ID}\"\n",
    "\n",
    "data = json.load(open(\"data/initial_data.json\", \"r\"))\n",
    "print(data)"
   ]
  },
  {
   "cell_type": "code",
   "execution_count": null,
   "id": "61485b69",
   "metadata": {},
   "outputs": [],
   "source": []
  }
 ],
 "metadata": {
  "kernelspec": {
   "display_name": "Python 3 (ipykernel)",
   "language": "python",
   "name": "python3"
  },
  "language_info": {
   "codemirror_mode": {
    "name": "ipython",
    "version": 3
   },
   "file_extension": ".py",
   "mimetype": "text/x-python",
   "name": "python",
   "nbconvert_exporter": "python",
   "pygments_lexer": "ipython3",
   "version": "3.9.7"
  }
 },
 "nbformat": 4,
 "nbformat_minor": 5
}
